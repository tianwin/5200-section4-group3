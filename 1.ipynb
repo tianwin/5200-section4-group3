{
 "cells": [
  {
   "cell_type": "markdown",
   "metadata": {},
   "source": [
    "---\n",
    "title: \"Electric data visualization\"\n",
    "author: \"Frank Dong, Di Ziyan, Qiu Jingxi\"\n",
    "---"
   ]
  },
  {
   "cell_type": "markdown",
   "metadata": {},
   "source": [
    "data reference:\n",
    "\n",
    "https://www.eia.gov/todayinenergy/detail.php?id=61783\n",
    "Hourly Electric Grid Monitor\n"
   ]
  },
  {
   "cell_type": "markdown",
   "metadata": {},
   "source": [
    "# Explor the elctric generation in one day\n",
    "2024.4.10 to 4.16"
   ]
  },
  {
   "cell_type": "code",
   "execution_count": 1,
   "metadata": {},
   "outputs": [],
   "source": [
    "import pandas as pd\n",
    "import matplotlib.pyplot as plt\n",
    "import seaborn as sns\n"
   ]
  },
  {
   "cell_type": "code",
   "execution_count": 14,
   "metadata": {},
   "outputs": [],
   "source": [
    "HEGM = pd.read_excel('data/Region_TEX.xlsx', sheet_name=\"Hourly Charts\", header=1)"
   ]
  },
  {
   "cell_type": "code",
   "execution_count": 17,
   "metadata": {},
   "outputs": [
    {
     "data": {
      "text/html": [
       "<div>\n",
       "<style scoped>\n",
       "    .dataframe tbody tr th:only-of-type {\n",
       "        vertical-align: middle;\n",
       "    }\n",
       "\n",
       "    .dataframe tbody tr th {\n",
       "        vertical-align: top;\n",
       "    }\n",
       "\n",
       "    .dataframe thead th {\n",
       "        text-align: right;\n",
       "    }\n",
       "</style>\n",
       "<table border=\"1\" class=\"dataframe\">\n",
       "  <thead>\n",
       "    <tr style=\"text-align: right;\">\n",
       "      <th></th>\n",
       "      <th>UTC time</th>\n",
       "      <th>Local time</th>\n",
       "      <th>Forecast demand</th>\n",
       "      <th>Demand</th>\n",
       "      <th>Net generation</th>\n",
       "      <th>Total interchange</th>\n",
       "      <th>Coal</th>\n",
       "      <th>Natural gas</th>\n",
       "      <th>Nuclear</th>\n",
       "      <th>Petroleum</th>\n",
       "      <th>...</th>\n",
       "      <th>Unnamed: 72</th>\n",
       "      <th>Unnamed: 73</th>\n",
       "      <th>Unnamed: 74</th>\n",
       "      <th>Unnamed: 75</th>\n",
       "      <th>Unnamed: 76</th>\n",
       "      <th>Unnamed: 77</th>\n",
       "      <th>Unnamed: 78</th>\n",
       "      <th>Unnamed: 79</th>\n",
       "      <th>Unnamed: 80</th>\n",
       "      <th>Unnamed: 81</th>\n",
       "    </tr>\n",
       "  </thead>\n",
       "  <tbody>\n",
       "    <tr>\n",
       "      <th>0</th>\n",
       "      <td>2024-04-06 06:00:00</td>\n",
       "      <td>2024-04-06 01:00:00</td>\n",
       "      <td>41316</td>\n",
       "      <td>41483.0</td>\n",
       "      <td>41574.0</td>\n",
       "      <td>92.0</td>\n",
       "      <td>3523.0</td>\n",
       "      <td>8282.0</td>\n",
       "      <td>3751.0</td>\n",
       "      <td>0.0</td>\n",
       "      <td>...</td>\n",
       "      <td>NaN</td>\n",
       "      <td>NaN</td>\n",
       "      <td>NaN</td>\n",
       "      <td>NaN</td>\n",
       "      <td>NaN</td>\n",
       "      <td>NaN</td>\n",
       "      <td>NaN</td>\n",
       "      <td>NaN</td>\n",
       "      <td>NaN</td>\n",
       "      <td>NaT</td>\n",
       "    </tr>\n",
       "  </tbody>\n",
       "</table>\n",
       "<p>1 rows × 82 columns</p>\n",
       "</div>"
      ],
      "text/plain": [
       "             UTC time          Local time  Forecast demand   Demand  \\\n",
       "0 2024-04-06 06:00:00 2024-04-06 01:00:00            41316  41483.0   \n",
       "\n",
       "   Net generation  Total interchange    Coal  Natural gas  Nuclear  Petroleum  \\\n",
       "0         41574.0               92.0  3523.0       8282.0   3751.0        0.0   \n",
       "\n",
       "   ...  Unnamed: 72  Unnamed: 73  Unnamed: 74  Unnamed: 75  Unnamed: 76  \\\n",
       "0  ...          NaN          NaN          NaN          NaN          NaN   \n",
       "\n",
       "   Unnamed: 77  Unnamed: 78  Unnamed: 79  Unnamed: 80  Unnamed: 81  \n",
       "0          NaN          NaN          NaN          NaN          NaT  \n",
       "\n",
       "[1 rows x 82 columns]"
      ]
     },
     "execution_count": 17,
     "metadata": {},
     "output_type": "execute_result"
    }
   ],
   "source": [
    "HEGM.head(1)"
   ]
  },
  {
   "cell_type": "code",
   "execution_count": 46,
   "metadata": {},
   "outputs": [],
   "source": [
    "HEGM = HEGM[HEGM[\"Local time\"] > \"2024-04-10 00:00:00\"]\n",
    "HEGM = HEGM[HEGM[\"Local time\"] < \"2024-04-17 00:00:00\"]"
   ]
  },
  {
   "cell_type": "code",
   "execution_count": 47,
   "metadata": {},
   "outputs": [],
   "source": [
    "Hourly = HEGM[[\"Hour\", \"Demand\", \"Net generation\", \"Coal\", \"Natural gas\", \"Petroleum\", \"Hydro\", \"Solar\", \"Wind\", \"Other\"]]"
   ]
  },
  {
   "cell_type": "code",
   "execution_count": 48,
   "metadata": {},
   "outputs": [],
   "source": [
    "Hourly.dropna(inplace=True)\n",
    "import warnings\n",
    "warnings.filterwarnings('ignore')"
   ]
  },
  {
   "cell_type": "code",
   "execution_count": 50,
   "metadata": {},
   "outputs": [],
   "source": [
    "plot = Hourly.groupby(\"Hour\").mean().round(1)"
   ]
  },
  {
   "cell_type": "code",
   "execution_count": 51,
   "metadata": {},
   "outputs": [],
   "source": [
    "plot.to_csv(\"data/plot.csv\")"
   ]
  }
 ],
 "metadata": {
  "kernelspec": {
   "display_name": "Python 3",
   "language": "python",
   "name": "python3"
  },
  "language_info": {
   "codemirror_mode": {
    "name": "ipython",
    "version": 3
   },
   "file_extension": ".py",
   "mimetype": "text/x-python",
   "name": "python",
   "nbconvert_exporter": "python",
   "pygments_lexer": "ipython3",
   "version": "3.10.9"
  }
 },
 "nbformat": 4,
 "nbformat_minor": 2
}
